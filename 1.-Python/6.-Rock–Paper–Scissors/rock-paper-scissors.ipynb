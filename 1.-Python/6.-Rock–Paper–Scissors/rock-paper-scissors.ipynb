{
 "cells": [
  {
   "cell_type": "markdown",
   "metadata": {},
   "source": [
    "<img src=\"https://bit.ly/2VnXWr2\" width=\"100\" align=\"left\">"
   ]
  },
  {
   "cell_type": "markdown",
   "metadata": {},
   "source": [
    "# Rock, Paper & Scissors\n",
    "\n",
    "Let's play the famous game against our computer. You can check the rules [here](https://en.wikipedia.org/wiki/Rock%E2%80%93paper%E2%80%93scissors). \n",
    "\n",
    "## Task\n",
    "Create a program that imitates the playability of the well known game of rock, paper, scissors. Follow the guidelines provided.\n",
    "\n",
    "## Tools\n",
    "1. Loop: **for/while**\n",
    "2. Functions: **input(), print()...**\n",
    "3. Conditional statements: **if, elif, else**\n",
    "4. Definition of functions. Modular programming\n",
    "5. Import modules\n",
    "\n",
    "**To solve this challenge, the use of functions is recommended.**\n",
    "\n",
    "#### 1. Import the choice function of the random module."
   ]
  },
  {
   "cell_type": "code",
   "execution_count": 6,
   "metadata": {},
   "outputs": [],
   "source": [
    "from random import choice"
   ]
  },
  {
   "cell_type": "markdown",
   "metadata": {},
   "source": [
    "#### 2. Create a list that includes the 3 possible gesture options of the game: 'rock', 'paper' or 'scissors'. Store the list in a variable called `gestures`."
   ]
  },
  {
   "cell_type": "code",
   "execution_count": 7,
   "metadata": {},
   "outputs": [],
   "source": [
    "gestures = ['rock','paper','scissors']"
   ]
  },
  {
   "cell_type": "markdown",
   "metadata": {},
   "source": [
    "#### 3. Create a variable called `n_rounds` to store the maximum number of rounds to play in a game. \n",
    "Remember that the number of rounds must be odd: 1, 3, 5, ..."
   ]
  },
  {
   "cell_type": "code",
   "execution_count": 8,
   "metadata": {},
   "outputs": [],
   "source": [
    "n_rounds = 5"
   ]
  },
  {
   "cell_type": "markdown",
   "metadata": {},
   "source": [
    "#### 4. Create a variable called `rounds_to_win` to store the number of rounds that a player must win to win the game.\n",
    "**Hint**: the value stored in `rounds_to_win` depends on the value of `n_rounds`. "
   ]
  },
  {
   "cell_type": "code",
   "execution_count": 9,
   "metadata": {},
   "outputs": [],
   "source": [
    "rounds_to_win = int((n_rounds + 1) / 2)"
   ]
  },
  {
   "cell_type": "markdown",
   "metadata": {},
   "source": [
    "#### 5. Create two variables to store the number of rounds that the computer and the player have won. Call these variables `cpu_score` and `player_score`."
   ]
  },
  {
   "cell_type": "code",
   "execution_count": 10,
   "metadata": {},
   "outputs": [],
   "source": [
    "cpu_score = 0\n",
    "player_score = 0"
   ]
  },
  {
   "cell_type": "markdown",
   "metadata": {},
   "source": [
    "#### 6. Define a function that randomly returns one of the 3 gesture options.\n",
    "You will use this function to simulate the gesture choice of the computer. "
   ]
  },
  {
   "cell_type": "code",
   "execution_count": 11,
   "metadata": {},
   "outputs": [],
   "source": [
    "def cpu_choice():\n",
    "    return(choice(gestures))"
   ]
  },
  {
   "cell_type": "markdown",
   "metadata": {},
   "source": [
    "#### 7. Define a function that asks the player which is the gesture he or she wants to show: 'rock', 'paper' or 'scissors'.\n",
    "The player should only be allowed to choose one of the 3 gesture options. If the player's choice is not rock, paper or scissors, keep asking until it is."
   ]
  },
  {
   "cell_type": "code",
   "execution_count": 12,
   "metadata": {},
   "outputs": [],
   "source": [
    "def player_choice():\n",
    "    n = 1\n",
    "    while n > 0:\n",
    "        gesture = input(\"Please specify your gesture: \")\n",
    "        if gestures.count(gesture) == 1:\n",
    "            return gesture"
   ]
  },
  {
   "cell_type": "markdown",
   "metadata": {},
   "source": [
    "#### 8. Define a function that checks who won a round. \n",
    "The function should return 0 if there is a tie, 1 if the computer wins and 2 if the player wins."
   ]
  },
  {
   "cell_type": "code",
   "execution_count": 13,
   "metadata": {},
   "outputs": [],
   "source": [
    "def round_result(cpu,player):\n",
    "    if cpu == player:\n",
    "        return 0\n",
    "    elif cpu == 'rock':\n",
    "        if player == 'scissors':\n",
    "            return 1\n",
    "        else:\n",
    "            return 2\n",
    "    elif cpu == 'scissors':\n",
    "        if player == 'paper':\n",
    "            return 1\n",
    "        elif player:\n",
    "            return 2\n",
    "    else:\n",
    "        if player == 'rock':\n",
    "            return 1\n",
    "        else:\n",
    "            return 2"
   ]
  },
  {
   "cell_type": "markdown",
   "metadata": {},
   "source": [
    "#### 9. Define a function that prints the choice of the computer, the choice of the player and a message that announces who won the current round. \n",
    "You should also use this function to update the variables that count the number of rounds that the computer and the player have won. The score of the winner increases by one point. If there is a tie, the score does not increase."
   ]
  },
  {
   "cell_type": "code",
   "execution_count": 14,
   "metadata": {},
   "outputs": [],
   "source": [
    "def result_update():\n",
    "    global player_score\n",
    "    global cpu_score\n",
    "    winner = \"\"\n",
    "    cpu = cpu_choice()\n",
    "    player = player_choice()\n",
    "    result = round_result(cpu,player)\n",
    "    if result == 1:\n",
    "        cpu_score += 1\n",
    "        print(\"CPU's choice: \" + cpu + \"\\nPlayer's choice: \" + player + \"\\nCPU wins\")\n",
    "    elif result == 2:\n",
    "        player_score += 1\n",
    "        print(\"CPU's choice: \" + cpu + \"\\nPlayer's choice: \" + player + \"\\nPlayer wins\")\n",
    "    else:\n",
    "        print(\"CPU's choice: \" + cpu + \"\\nPlayer's choice: \" + player + \"\\nTie\")"
   ]
  },
  {
   "cell_type": "markdown",
   "metadata": {},
   "source": [
    "#### 10. Now it's time to code the execution of the game using the functions and variables you defined above. \n",
    "\n",
    "First, create a loop structure that repeats while no player reaches the minimum score necessary to win and the number of rounds is less than the maximum number of rounds to play in a game.  \n",
    "\n",
    "Inside the loop, use the functions and variables above to create the execution of a round: ask for the player's choice, generate the random choice of the computer, show the round results, update the scores, etc. "
   ]
  },
  {
   "cell_type": "code",
   "execution_count": 15,
   "metadata": {},
   "outputs": [
    {
     "name": "stdout",
     "output_type": "stream",
     "text": [
      "Please specify your gesture: rock\n",
      "CPU's choice: paper\n",
      "Player's choice: rock\n",
      "CPU wins\n",
      "Please specify your gesture: paper\n",
      "CPU's choice: paper\n",
      "Player's choice: paper\n",
      "Tie\n",
      "Please specify your gesture: paper\n",
      "CPU's choice: scissors\n",
      "Player's choice: paper\n",
      "CPU wins\n",
      "Please specify your gesture: paper\n",
      "CPU's choice: paper\n",
      "Player's choice: paper\n",
      "Tie\n",
      "Please specify your gesture: rock\n",
      "CPU's choice: rock\n",
      "Player's choice: rock\n",
      "Tie\n"
     ]
    }
   ],
   "source": [
    "rounds = 0\n",
    "cpu_score = 0\n",
    "player_score = 0\n",
    "while rounds < n_rounds and cpu_score < rounds_to_win and player_score < rounds_to_win:\n",
    "    result_update()\n",
    "    rounds +=1"
   ]
  },
  {
   "cell_type": "markdown",
   "metadata": {},
   "source": [
    "#### 11. Print the winner of the game based on who won more rounds.\n",
    "Remember that the game might be tied. "
   ]
  },
  {
   "cell_type": "code",
   "execution_count": 16,
   "metadata": {},
   "outputs": [
    {
     "name": "stdout",
     "output_type": "stream",
     "text": [
      "The winner is the CPU\n"
     ]
    }
   ],
   "source": [
    "if cpu_score == player_score:\n",
    "    print (\"Tie\")\n",
    "elif cpu_score > player_score:\n",
    "    print (\"The winner is the CPU\")\n",
    "else:\n",
    "    print(\"The winner is the Player\")"
   ]
  },
  {
   "cell_type": "markdown",
   "metadata": {},
   "source": [
    "# Bonus: Rock, Paper, Scissors, Lizard & Spock\n",
    "![](images/rpsls.jpg)\n",
    "\n",
    "In this challenge, you need to improve the previous game by adding two new options. To know more about the rules of the improved version of rock, paper, scissors, check this [link](http://www.samkass.com/theories/RPSSL.html). \n",
    "\n",
    "In addition, you will also need to improve how the game interacts with the player: the number of rounds to play, which must be an odd number, will be requested to the user until a valid number is entered. Define a new function to make that request.\n",
    "\n",
    "**Hint**: Try to reuse the code that you already coded in the previous challenge. If your code is efficient, this bonus will only consist of simple modifications to the original game."
   ]
  },
  {
   "cell_type": "code",
   "execution_count": 1,
   "metadata": {},
   "outputs": [],
   "source": [
    "gestures_bonus = ['rock','paper','scissors','lizard','spock']"
   ]
  },
  {
   "cell_type": "code",
   "execution_count": 2,
   "metadata": {},
   "outputs": [],
   "source": [
    "def number_rounds():\n",
    "    n = 1\n",
    "    while n > 0:\n",
    "        rounds = input(\"Please enter the number of rounds you want to play: \")\n",
    "        n_rounds = int(rounds)\n",
    "        if n_rounds % 2 == 1:\n",
    "            return(n_rounds)"
   ]
  },
  {
   "cell_type": "code",
   "execution_count": 3,
   "metadata": {},
   "outputs": [],
   "source": [
    "def cpu_choice_bonus():\n",
    "    return(choice(gestures_bonus))"
   ]
  },
  {
   "cell_type": "code",
   "execution_count": 4,
   "metadata": {},
   "outputs": [],
   "source": [
    "def player_choice_bonus():\n",
    "    n = 1\n",
    "    while n > 0:\n",
    "        gesture = input(\"Please specify your gesture: \")\n",
    "        if gestures_bonus.count(gesture) == 1:\n",
    "            return gesture"
   ]
  },
  {
   "cell_type": "code",
   "execution_count": 5,
   "metadata": {},
   "outputs": [],
   "source": [
    "def round_result_bonus(cpu,player):\n",
    "    if cpu == player:\n",
    "        return 0\n",
    "    elif cpu == 'rock':\n",
    "        if player == 'scissors' or player == 'lizard':\n",
    "            return 1\n",
    "        else:\n",
    "            return 2\n",
    "    elif cpu == 'scissors':\n",
    "        if player == 'paper' or player == 'lizard':\n",
    "            return 1\n",
    "        else:\n",
    "            return 2\n",
    "    elif cpu == 'paper':\n",
    "        if player == 'rock' or player == 'spock':\n",
    "            return 1\n",
    "        else:\n",
    "            return 2\n",
    "    elif cpu == 'lizard':\n",
    "        if player == 'paper' or player == 'spock':\n",
    "            return 1\n",
    "        else:\n",
    "            return 2\n",
    "    else:\n",
    "        if player == 'scissors' or player == 'rock':\n",
    "            return 1\n",
    "        else:\n",
    "            return 2"
   ]
  },
  {
   "cell_type": "code",
   "execution_count": 18,
   "metadata": {},
   "outputs": [],
   "source": [
    "def result_update_bonus():\n",
    "    global player_score\n",
    "    global cpu_score\n",
    "    winner = \"\"\n",
    "    cpu = cpu_choice_bonus()\n",
    "    player = player_choice_bonus()\n",
    "    result = round_result_bonus(cpu,player)\n",
    "    if result == 1:\n",
    "        cpu_score += 1\n",
    "        print(\"CPU's choice: \" + cpu + \"\\nPlayer's choice: \" + player + \"\\nCPU wins\")\n",
    "    elif result == 2:\n",
    "        player_score += 1\n",
    "        print(\"CPU's choice: \" + cpu + \"\\nPlayer's choice: \" + player + \"\\nPlayer wins\")\n",
    "    else:\n",
    "        print(\"CPU's choice: \" + cpu + \"\\nPlayer's choice: \" + player + \"\\nTie\")"
   ]
  },
  {
   "cell_type": "code",
   "execution_count": 19,
   "metadata": {},
   "outputs": [
    {
     "name": "stdout",
     "output_type": "stream",
     "text": [
      "Please enter the number of rounds you want to play: 3\n",
      "Please specify your gesture: spock\n",
      "CPU's choice: rock\n",
      "Player's choice: spock\n",
      "Player wins\n",
      "Please specify your gesture: lizard\n",
      "CPU's choice: scissors\n",
      "Player's choice: lizard\n",
      "CPU wins\n",
      "Please specify your gesture: paper\n",
      "CPU's choice: spock\n",
      "Player's choice: paper\n",
      "Player wins\n"
     ]
    }
   ],
   "source": [
    "rounds = 0\n",
    "cpu_score = 0\n",
    "max_rounds = number_rounds()\n",
    "rounds_win = int ((max_rounds + 1)/2)\n",
    "player_score = 0\n",
    "while rounds < max_rounds and cpu_score < rounds_win and player_score < rounds_win:\n",
    "    result_update_bonus()\n",
    "    rounds +=1"
   ]
  },
  {
   "cell_type": "code",
   "execution_count": 20,
   "metadata": {},
   "outputs": [
    {
     "name": "stdout",
     "output_type": "stream",
     "text": [
      "The winner is the Player\n"
     ]
    }
   ],
   "source": [
    " if cpu_score == player_score:\n",
    "    print (\"Tie\")\n",
    "elif cpu_score > player_score:\n",
    "    print (\"The winner is the CPU\")\n",
    "else:\n",
    "    print(\"The winner is the Player\")"
   ]
  },
  {
   "cell_type": "code",
   "execution_count": null,
   "metadata": {},
   "outputs": [],
   "source": []
  }
 ],
 "metadata": {
  "kernelspec": {
   "display_name": "Python 3",
   "language": "python",
   "name": "python3"
  },
  "language_info": {
   "codemirror_mode": {
    "name": "ipython",
    "version": 3
   },
   "file_extension": ".py",
   "mimetype": "text/x-python",
   "name": "python",
   "nbconvert_exporter": "python",
   "pygments_lexer": "ipython3",
   "version": "3.7.7"
  }
 },
 "nbformat": 4,
 "nbformat_minor": 2
}
